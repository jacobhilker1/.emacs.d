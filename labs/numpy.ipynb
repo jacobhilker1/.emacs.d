{
  "nbformat": 4,
  "nbformat_minor": 0,
  "metadata": {
    "colab": {
      "name": "numpy.ipynb",
      "provenance": [],
      "authorship_tag": "ABX9TyOoVtR1RT5hgMM5tZO+cWPh",
      "include_colab_link": true
    },
    "kernelspec": {
      "name": "python3",
      "display_name": "Python 3"
    }
  },
  "cells": [
    {
      "cell_type": "markdown",
      "metadata": {
        "id": "view-in-github",
        "colab_type": "text"
      },
      "source": [
        "<a href=\"https://colab.research.google.com/github/jhilker1/.emacs.d/blob/master/labs/numpy.ipynb\" target=\"_parent\"><img src=\"https://colab.research.google.com/assets/colab-badge.svg\" alt=\"Open In Colab\"/></a>"
      ]
    },
    {
      "cell_type": "markdown",
      "metadata": {
        "id": "rxQL6L8nhJTQ",
        "colab_type": "text"
      },
      "source": [
        "# Numpy Lab\n",
        "## Jacob Hilker"
      ]
    },
    {
      "cell_type": "code",
      "metadata": {
        "id": "V_Rc4gy8g_cF",
        "colab_type": "code",
        "colab": {}
      },
      "source": [
        "import numpy as np\n",
        "import time"
      ],
      "execution_count": 1,
      "outputs": []
    },
    {
      "cell_type": "markdown",
      "metadata": {
        "id": "ZWTOnnw8hWIr",
        "colab_type": "text"
      },
      "source": [
        "### Q1.\n",
        "Suppose I want to create an array with 10,000 by 10,000 cells. Then I want to add 1 to each cell. How much time does this take using generic Python arrays and using Numpy arrays? "
      ]
    },
    {
      "cell_type": "code",
      "metadata": {
        "id": "gfPgtJV9__mq",
        "colab_type": "code",
        "colab": {
          "base_uri": "https://localhost:8080/",
          "height": 35
        },
        "outputId": "d1b0e2a2-2e2b-4fd0-cce2-27a4ad5ba9bd"
      },
      "source": [
        "startTime = time.time()\n",
        "pyArr = [[x + y * 10 for x in range(10000)] for y in range(10000)]\n",
        "endTime = time.time()\n",
        "print(f\"It took {endTime-startTime} seconds for this to run\")"
      ],
      "execution_count": 2,
      "outputs": [
        {
          "output_type": "stream",
          "text": [
            "It took 13.097566843032837 seconds for this to run\n"
          ],
          "name": "stdout"
        }
      ]
    },
    {
      "cell_type": "code",
      "metadata": {
        "id": "pNu1_aI1D94D",
        "colab_type": "code",
        "colab": {
          "base_uri": "https://localhost:8080/",
          "height": 35
        },
        "outputId": "1a580e9c-a5aa-4b98-da3d-8f844f4ff487"
      },
      "source": [
        "startTime = time.time()\n",
        "npArr = np.arange(10000 ** 2)\n",
        "npArr.reshape(10000,10000)\n",
        "endTime = time.time()\n",
        "print(f\"It took {endTime-startTime} seconds for this to run\")"
      ],
      "execution_count": 3,
      "outputs": [
        {
          "output_type": "stream",
          "text": [
            "It took 0.9281930923461914 seconds for this to run\n"
          ],
          "name": "stdout"
        }
      ]
    },
    {
      "cell_type": "markdown",
      "metadata": {
        "id": "q6l17BwiD-c0",
        "colab_type": "text"
      },
      "source": [
        "### Q2.\n"
      ]
    }
  ]
}